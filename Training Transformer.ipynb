{
 "cells": [
  {
   "cell_type": "markdown",
   "metadata": {},
   "source": [
    "# Import all of the used libraries"
   ]
  },
  {
   "cell_type": "code",
   "execution_count": 3,
   "metadata": {},
   "outputs": [],
   "source": [
    "import torch\n",
    "import torch.nn as nn\n",
    "import torch.optim as optim\n",
    "import spacy\n",
    "\n",
    "from torch.utils.tensorboard import SummaryWriter\n",
    "from torchtext.datasets import Multi30k\n",
    "from torchtext.data import Field, BucketIterator\n",
    "from Utlis import calculate_bleu, saveCheckpoint, loadCheckpoint\n",
    "from torchtext.data import Field, TabularDataset"
   ]
  },
  {
   "cell_type": "markdown",
   "metadata": {},
   "source": [
    "# Create a field and vocab to split and tokenize the articles"
   ]
  },
  {
   "cell_type": "code",
   "execution_count": 4,
   "metadata": {},
   "outputs": [
    {
     "name": "stdout",
     "output_type": "stream",
     "text": [
      "Number of training examples: 8043\n",
      "Number of validation examples: 1723\n",
      "Number of testing examples: 1724\n",
      "Unique tokens in source vocabulary: 10004\n",
      "Unique tokens in target vocabulary: 10004\n"
     ]
    }
   ],
   "source": [
    "# Define the Fields for tokenization\n",
    "articles = Field(tokenize=\"spacy\", tokenizer_language=\"en_core_web_sm\", init_token=\"<sos>\", eos_token=\"<eos>\")\n",
    "highlights = Field(tokenize=\"spacy\", tokenizer_language=\"en_core_web_sm\", init_token=\"<sos>\", eos_token=\"<eos>\")\n",
    "\n",
    "# Define the fields dictionary for the TabularDataset\n",
    "fields = {\"article\": (\"src\", articles), \"highlights\": (\"trg\", highlights)}\n",
    "\n",
    "# Path to your data file\n",
    "data_path = \"Datasets/cnn_dailymail/train.csv\"\n",
    "\n",
    "# Create the TabularDataset\n",
    "dataset = TabularDataset(\n",
    "    path=data_path,\n",
    "    format=\"csv\",  \n",
    "    fields=fields\n",
    ")\n",
    "\n",
    "# Split the dataset into training, validation, and test sets\n",
    "trainData, validData, testData = dataset.split(split_ratio=[0.7, 0.15, 0.15])\n",
    "\n",
    "# Build the vocabulary for the Fields\n",
    "articles.build_vocab(trainData, max_size=10000, min_freq=2)\n",
    "highlights.build_vocab(trainData, max_size=10000, min_freq=2)\n",
    "\n",
    "# Print some statistics\n",
    "print(f\"Number of training examples: {len(trainData.examples)}\")\n",
    "print(f\"Number of validation examples: {len(validData.examples)}\")\n",
    "print(f\"Number of testing examples: {len(testData.examples)}\")\n",
    "print(f\"Unique tokens in source vocabulary: {len(articles.vocab)}\")\n",
    "print(f\"Unique tokens in target vocabulary: {len(highlights.vocab)}\")"
   ]
  },
  {
   "cell_type": "markdown",
   "metadata": {},
   "source": [
    "# Create the model structure"
   ]
  },
  {
   "cell_type": "code",
   "execution_count": 5,
   "metadata": {},
   "outputs": [],
   "source": [
    "class Transformer(nn.Module):\n",
    "    def __init__(self, \n",
    "                 embeddingSize,\n",
    "                 sourceVocabSize,\n",
    "                 targetVocabSize,\n",
    "                 sourcePadIndex,\n",
    "                 numberHeads,\n",
    "                 numberEncoderLayers,\n",
    "                 numberDecoderLayers,\n",
    "                 forwardExpansion,\n",
    "                 dropout,\n",
    "                 maxLength,\n",
    "                 device\n",
    "                ) -> None:\n",
    "        super(Transformer, self).__init__()\n",
    "        \n",
    "        # Creating a map to turn words into vectors, similar to Word2Vec\n",
    "        self.sourceWordEmbedding = nn.Embedding(sourceVocabSize, embeddingSize)\n",
    "        \n",
    "        # Creating a map to turn the position of the word into a vec\n",
    "        self.sourcePositionEmbedding = nn.Embedding(maxLength, embeddingSize)\n",
    "        \n",
    "        # Same same, but for the target, (Need to double check to see if this needed as both the text are in english)\n",
    "        self.targetWordEmbedding = nn.Embedding(targetVocabSize, embeddingSize)\n",
    "        self.targetPositionEmbedding = nn.Embedding(maxLength, embeddingSize)\n",
    "        \n",
    "        # Set the device, GPU or CPU\n",
    "        self.device = device\n",
    "        \n",
    "        self.transformer = nn.Transformer(\n",
    "            d_model=embeddingSize,\n",
    "            nhead=numberHeads,\n",
    "            num_encoder_layers=numberEncoderLayers,\n",
    "            num_decoder_layers=numberDecoderLayers,\n",
    "            dim_feedforward=forwardExpansion,\n",
    "            dropout=dropout\n",
    "        )\n",
    "        \n",
    "        # Create a Linear and softmax function to turn word vectors into words\n",
    "        self.fcOut = nn.Linear(embeddingSize, targetVocabSize)\n",
    "        self.dropout = nn.Dropout(dropout)\n",
    "        self.sourcePadIdx = sourcePadIndex\n",
    "        \n",
    "    def getSourceMask(self, src):\n",
    "        # We are changing the shape of the mask from (srcLen, N) -> (N, srcLen)\n",
    "        # it needed to be in this format for pytorch to use it :)\n",
    "        sourceMask = src.transpose(0, 1) == self.sourcePadIdx\n",
    "        \n",
    "        return sourceMask\n",
    "    \n",
    "    def forward(self, source, target):\n",
    "        # Handle 1-dimensional tensor (vector) case\n",
    "        sourceSeqLength, N, = source.shape[0],source.shape[1]\n",
    "        targetSeqLength, N, = target.shape[0],target.shape[1]\n",
    "        \n",
    "        # Creating the positions used for the position embeddings\n",
    "        sourcePositions = (\n",
    "            torch.arange(0, sourceSeqLength).unsqueeze(1).expand(sourceSeqLength, N)\n",
    "            .to(self.device)\n",
    "        )\n",
    "\n",
    "        targetPositions = (\n",
    "            torch.arange(0, targetSeqLength).unsqueeze(1).expand(targetSeqLength, N)\n",
    "            .to(self.device)\n",
    "        )\n",
    "        \n",
    "        # We are combining both the word embedding with the position of the words \n",
    "        embedSource = self.dropout(\n",
    "            (self.sourceWordEmbedding(source) + self.sourcePositionEmbedding(sourcePositions))\n",
    "        )\n",
    "        \n",
    "        embedTarget = self.dropout(\n",
    "            (self.targetWordEmbedding(target) + self.targetPositionEmbedding(targetPositions))\n",
    "        )\n",
    "        \n",
    "        # Now we are creating a mask that can be used on all the text\n",
    "        sourcePaddingMask = self.getSourceMask(source)\n",
    "        targetMask = self.transformer.generate_square_subsequent_mask(targetSeqLength).to(self.device)\n",
    "        \n",
    "        out = self.transformer(\n",
    "            embedSource,\n",
    "            embedTarget,\n",
    "            src_key_padding_mask = sourcePaddingMask,\n",
    "            tgt_mask = targetMask\n",
    "        )\n",
    "        \n",
    "        out = self.fcOut(out)\n",
    "        \n",
    "        return out"
   ]
  },
  {
   "cell_type": "markdown",
   "metadata": {},
   "source": [
    "# Get the article Highlights"
   ]
  },
  {
   "cell_type": "code",
   "execution_count": 6,
   "metadata": {},
   "outputs": [],
   "source": [
    "def getHighlights(article, articles_field, highlights_field, model, device):\n",
    "    # Tokenize the article\n",
    "    tokenized_article = articles_field.tokenize(article)\n",
    "    \n",
    "    # Convert tokens to numerical indices\n",
    "    numerical_article = [articles_field.vocab.stoi[token] for token in tokenized_article]\n",
    "    \n",
    "    # Convert to tensor and add batch dimension\n",
    "    numerical_article = torch.LongTensor(numerical_article).unsqueeze(1).to(device)\n",
    "    \n",
    "    # Generate highlights\n",
    "    model.eval()\n",
    "    with torch.no_grad():\n",
    "        # Assuming target is not used for generating highlights\n",
    "        target = torch.zeros((numerical_article.shape[0], 1)).long().to(device)\n",
    "        output = model(numerical_article, target)\n",
    "    \n",
    "    # Get the generated highlights as numerical indices\n",
    "    generated_indices = output.argmax(dim=-1)\n",
    "    \n",
    "    # Convert indices to tokens\n",
    "    generated_tokens = [highlights_field.vocab.itos[idx] for idx in generated_indices.squeeze()]\n",
    "    \n",
    "    # Remove special tokens and join tokens into a single string\n",
    "    generated_highlights = ' '.join(token for token in generated_tokens if token not in ['<sos>', '<eos>', '<pad>'])\n",
    "    \n",
    "    return generated_highlights"
   ]
  },
  {
   "cell_type": "markdown",
   "metadata": {},
   "source": [
    "# Set Training parameters    "
   ]
  },
  {
   "cell_type": "code",
   "execution_count": 7,
   "metadata": {},
   "outputs": [],
   "source": [
    "# Create a Training phase\n",
    "device = torch.device(\"cuda\" if torch.cuda.is_available() else \"cpu\")\n",
    "loadModel = False\n",
    "saveModel = True\n",
    "\n",
    "# Training hyperparameters\n",
    "numberEpochs = 100\n",
    "learningRate = 3e-4\n",
    "batchSize = (32, 32, 32)\n",
    "\n",
    "# Model hyperparameters\n",
    "sourceVocabSize, targetVocabSize = len(articles.vocab), len(highlights.vocab)\n",
    "embeddingSize = 512\n",
    "numberHeads = 8\n",
    "numberEncoderLayers = 3\n",
    "numberDecoderLayers = 3\n",
    "dropout = 0.10\n",
    "maxLength = 10000\n",
    "forwardExpansion = 4\n",
    "sourcePadIndex = articles.vocab.stoi['<pad>']"
   ]
  },
  {
   "cell_type": "markdown",
   "metadata": {},
   "source": [
    "# Create Model and optimizer "
   ]
  },
  {
   "cell_type": "code",
   "execution_count": 8,
   "metadata": {},
   "outputs": [
    {
     "name": "stderr",
     "output_type": "stream",
     "text": [
      "c:\\Users\\User\\anaconda3\\envs\\TensorFlow-GPU\\lib\\site-packages\\torch\\nn\\modules\\transformer.py:306: UserWarning: enable_nested_tensor is True, but self.use_nested_tensor is False because encoder_layer.self_attn.batch_first was not True(use batch_first for better inference performance)\n",
      "  warnings.warn(f\"enable_nested_tensor is True, but self.use_nested_tensor is False because {why_not_sparsity_fast_path}\")\n"
     ]
    }
   ],
   "source": [
    "# Tensorboard to be fancy\n",
    "writer = SummaryWriter('runs/lossPlot')\n",
    "step = 0\n",
    "\n",
    "trainIterator, validIterator, testIterator = BucketIterator.splits(\n",
    "    (trainData, validData, testData),\n",
    "    batch_sizes=batchSize,\n",
    "    sort_within_batch = True, # Note the reason that you are sorting it is because when you are in batches it wont have to calculate extra padding size\n",
    "    sort_key = lambda x: len(x.src),\n",
    "    device = device\n",
    ")\n",
    "\n",
    "model = Transformer(\n",
    "    embeddingSize=embeddingSize,\n",
    "    sourceVocabSize=sourceVocabSize,\n",
    "    targetVocabSize=targetVocabSize,\n",
    "    sourcePadIndex=sourcePadIndex,\n",
    "    numberHeads=numberHeads,\n",
    "    numberEncoderLayers=numberEncoderLayers,\n",
    "    numberDecoderLayers=numberDecoderLayers,\n",
    "    forwardExpansion=forwardExpansion,\n",
    "    dropout=dropout,\n",
    "    maxLength=maxLength,\n",
    "    device=device\n",
    ").to(device)\n",
    "\n",
    "optimizer = optim.Adam(model.parameters(), lr=learningRate)\n",
    "\n",
    "\n",
    "padIndex = articles.vocab.stoi['<pad>']\n",
    "criterion = nn.CrossEntropyLoss(ignore_index = padIndex)\n"
   ]
  },
  {
   "cell_type": "markdown",
   "metadata": {},
   "source": [
    "# Remove useless warnings"
   ]
  },
  {
   "cell_type": "code",
   "execution_count": null,
   "metadata": {},
   "outputs": [],
   "source": [
    "import warnings\n",
    "\n",
    "# Suppress the warning\n",
    "warnings.filterwarnings(\"ignore\", message=\"1Torch was not compiled with flash attention.\", category=UserWarning)"
   ]
  },
  {
   "cell_type": "markdown",
   "metadata": {},
   "source": [
    "# Training"
   ]
  },
  {
   "cell_type": "code",
   "execution_count": 9,
   "metadata": {},
   "outputs": [
    {
     "name": "stderr",
     "output_type": "stream",
     "text": [
      "[Epoch 0 / 100]:   0%|          | 0/252 [00:00<?, ?it/s]c:\\Users\\User\\anaconda3\\envs\\TensorFlow-GPU\\lib\\site-packages\\torch\\nn\\functional.py:5504: UserWarning: 1Torch was not compiled with flash attention. (Triggered internally at ..\\aten\\src\\ATen\\native\\transformers\\cuda\\sdp_utils.cpp:455.)\n",
      "  attn_output = scaled_dot_product_attention(q, k, v, attn_mask, dropout_p, is_causal)\n",
      "[Epoch 0 / 100]: 100%|██████████| 252/252 [05:17<00:00,  1.26s/it]\n"
     ]
    },
    {
     "name": "stdout",
     "output_type": "stream",
     "text": [
      "    Checkpoint saved to 'Checkpoints/2024-05-05 14 10 54.090010/point0.pth'\n",
      "    Key Dot Points: \n",
      "      <unk> <unk> , <unk> <unk> to <unk> <unk> to . . . . . . . . . . . . . . . . . . . . . . . . . . . . . . . . . . . . . . . . . . . . . . . . . . . . . . . . . . . . . . . . . . . . . . . . . . . . . . . . . . . . . . . . . . . . . . . . . . . . . . . . . . . . . . . . . . . . . . . . . . . . . . . . . . . . . . . . . . . . . . . . . . . . . . . . . . . . . . . . . . . . . . . . . . . . . . . . . . . . . . . . . . . . . . . . . . . . . . . . . . . . . . . . . . . . . . . . . . . . . . . . . . . . . . . . . . . . . . . . . . . . . . . . . . . . . . . . . . . . . . . . . . . . . . . . . . . . . . . . . . . . . . . . . . . . . . . . . . . . . . . . . . . . . . . . . . . . . . . . . . . . . . . . . . . . . . . . . . . . . . . . . . . . . . . . . . . . . . . . . . . . . . . . . . . . . . . . . . . . . . . . . . . . . . . . . . . . . . . . . . . . .\n"
     ]
    },
    {
     "name": "stderr",
     "output_type": "stream",
     "text": [
      "[Epoch 1 / 100]:   8%|▊         | 21/252 [00:35<06:30,  1.69s/it]\n"
     ]
    },
    {
     "ename": "KeyboardInterrupt",
     "evalue": "",
     "output_type": "error",
     "traceback": [
      "\u001b[1;31m---------------------------------------------------------------------------\u001b[0m",
      "\u001b[1;31mKeyboardInterrupt\u001b[0m                         Traceback (most recent call last)",
      "Cell \u001b[1;32mIn[9], line 38\u001b[0m\n\u001b[0;32m     34\u001b[0m     torch\u001b[38;5;241m.\u001b[39mnn\u001b[38;5;241m.\u001b[39mutils\u001b[38;5;241m.\u001b[39mclip_grad_norm_(model\u001b[38;5;241m.\u001b[39mparameters(), max_norm\u001b[38;5;241m=\u001b[39m\u001b[38;5;241m1\u001b[39m)\n\u001b[0;32m     36\u001b[0m     optimizer\u001b[38;5;241m.\u001b[39mstep()\n\u001b[1;32m---> 38\u001b[0m     \u001b[43mwriter\u001b[49m\u001b[38;5;241;43m.\u001b[39;49m\u001b[43madd_scalar\u001b[49m\u001b[43m(\u001b[49m\u001b[38;5;124;43m\"\u001b[39;49m\u001b[38;5;124;43mTraining Loss\u001b[39;49m\u001b[38;5;124;43m\"\u001b[39;49m\u001b[43m,\u001b[49m\u001b[43m \u001b[49m\u001b[43mloss\u001b[49m\u001b[43m,\u001b[49m\u001b[43m \u001b[49m\u001b[43mglobal_step\u001b[49m\u001b[38;5;241;43m=\u001b[39;49m\u001b[43mstep\u001b[49m\u001b[43m)\u001b[49m\n\u001b[0;32m     39\u001b[0m     step \u001b[38;5;241m+\u001b[39m\u001b[38;5;241m=\u001b[39m \u001b[38;5;241m1\u001b[39m\n\u001b[0;32m     41\u001b[0m \u001b[38;5;66;03m# Save the model info\u001b[39;00m\n",
      "File \u001b[1;32mc:\\Users\\User\\anaconda3\\envs\\TensorFlow-GPU\\lib\\site-packages\\torch\\utils\\tensorboard\\writer.py:393\u001b[0m, in \u001b[0;36mSummaryWriter.add_scalar\u001b[1;34m(self, tag, scalar_value, global_step, walltime, new_style, double_precision)\u001b[0m\n\u001b[0;32m    389\u001b[0m     \u001b[38;5;28;01mfrom\u001b[39;00m \u001b[38;5;21;01mcaffe2\u001b[39;00m\u001b[38;5;21;01m.\u001b[39;00m\u001b[38;5;21;01mpython\u001b[39;00m \u001b[38;5;28;01mimport\u001b[39;00m workspace\n\u001b[0;32m    391\u001b[0m     scalar_value \u001b[38;5;241m=\u001b[39m workspace\u001b[38;5;241m.\u001b[39mFetchBlob(scalar_value)\n\u001b[1;32m--> 393\u001b[0m summary \u001b[38;5;241m=\u001b[39m \u001b[43mscalar\u001b[49m\u001b[43m(\u001b[49m\n\u001b[0;32m    394\u001b[0m \u001b[43m    \u001b[49m\u001b[43mtag\u001b[49m\u001b[43m,\u001b[49m\u001b[43m \u001b[49m\u001b[43mscalar_value\u001b[49m\u001b[43m,\u001b[49m\u001b[43m \u001b[49m\u001b[43mnew_style\u001b[49m\u001b[38;5;241;43m=\u001b[39;49m\u001b[43mnew_style\u001b[49m\u001b[43m,\u001b[49m\u001b[43m \u001b[49m\u001b[43mdouble_precision\u001b[49m\u001b[38;5;241;43m=\u001b[39;49m\u001b[43mdouble_precision\u001b[49m\n\u001b[0;32m    395\u001b[0m \u001b[43m\u001b[49m\u001b[43m)\u001b[49m\n\u001b[0;32m    396\u001b[0m \u001b[38;5;28mself\u001b[39m\u001b[38;5;241m.\u001b[39m_get_file_writer()\u001b[38;5;241m.\u001b[39madd_summary(summary, global_step, walltime)\n",
      "File \u001b[1;32mc:\\Users\\User\\anaconda3\\envs\\TensorFlow-GPU\\lib\\site-packages\\torch\\utils\\tensorboard\\summary.py:369\u001b[0m, in \u001b[0;36mscalar\u001b[1;34m(name, tensor, collections, new_style, double_precision)\u001b[0m\n\u001b[0;32m    352\u001b[0m \u001b[38;5;28;01mdef\u001b[39;00m \u001b[38;5;21mscalar\u001b[39m(name, tensor, collections\u001b[38;5;241m=\u001b[39m\u001b[38;5;28;01mNone\u001b[39;00m, new_style\u001b[38;5;241m=\u001b[39m\u001b[38;5;28;01mFalse\u001b[39;00m, double_precision\u001b[38;5;241m=\u001b[39m\u001b[38;5;28;01mFalse\u001b[39;00m):\n\u001b[0;32m    353\u001b[0m \u001b[38;5;250m    \u001b[39m\u001b[38;5;124;03m\"\"\"Output a `Summary` protocol buffer containing a single scalar value.\u001b[39;00m\n\u001b[0;32m    354\u001b[0m \n\u001b[0;32m    355\u001b[0m \u001b[38;5;124;03m    The generated Summary has a Tensor.proto containing the input Tensor.\u001b[39;00m\n\u001b[1;32m   (...)\u001b[0m\n\u001b[0;32m    367\u001b[0m \u001b[38;5;124;03m      ValueError: If tensor has the wrong shape or type.\u001b[39;00m\n\u001b[0;32m    368\u001b[0m \u001b[38;5;124;03m    \"\"\"\u001b[39;00m\n\u001b[1;32m--> 369\u001b[0m     tensor \u001b[38;5;241m=\u001b[39m \u001b[43mmake_np\u001b[49m\u001b[43m(\u001b[49m\u001b[43mtensor\u001b[49m\u001b[43m)\u001b[49m\u001b[38;5;241m.\u001b[39msqueeze()\n\u001b[0;32m    370\u001b[0m     \u001b[38;5;28;01massert\u001b[39;00m (\n\u001b[0;32m    371\u001b[0m         tensor\u001b[38;5;241m.\u001b[39mndim \u001b[38;5;241m==\u001b[39m \u001b[38;5;241m0\u001b[39m\n\u001b[0;32m    372\u001b[0m     ), \u001b[38;5;124mf\u001b[39m\u001b[38;5;124m\"\u001b[39m\u001b[38;5;124mTensor should contain one element (0 dimensions). Was given size: \u001b[39m\u001b[38;5;132;01m{\u001b[39;00mtensor\u001b[38;5;241m.\u001b[39msize\u001b[38;5;132;01m}\u001b[39;00m\u001b[38;5;124m and \u001b[39m\u001b[38;5;132;01m{\u001b[39;00mtensor\u001b[38;5;241m.\u001b[39mndim\u001b[38;5;132;01m}\u001b[39;00m\u001b[38;5;124m dimensions.\u001b[39m\u001b[38;5;124m\"\u001b[39m\n\u001b[0;32m    373\u001b[0m     \u001b[38;5;66;03m# python float is double precision in numpy\u001b[39;00m\n",
      "File \u001b[1;32mc:\\Users\\User\\anaconda3\\envs\\TensorFlow-GPU\\lib\\site-packages\\torch\\utils\\tensorboard\\_convert_np.py:23\u001b[0m, in \u001b[0;36mmake_np\u001b[1;34m(x)\u001b[0m\n\u001b[0;32m     21\u001b[0m     \u001b[38;5;28;01mreturn\u001b[39;00m np\u001b[38;5;241m.\u001b[39marray([x])\n\u001b[0;32m     22\u001b[0m \u001b[38;5;28;01mif\u001b[39;00m \u001b[38;5;28misinstance\u001b[39m(x, torch\u001b[38;5;241m.\u001b[39mTensor):\n\u001b[1;32m---> 23\u001b[0m     \u001b[38;5;28;01mreturn\u001b[39;00m \u001b[43m_prepare_pytorch\u001b[49m\u001b[43m(\u001b[49m\u001b[43mx\u001b[49m\u001b[43m)\u001b[49m\n\u001b[0;32m     24\u001b[0m \u001b[38;5;28;01mraise\u001b[39;00m \u001b[38;5;167;01mNotImplementedError\u001b[39;00m(\n\u001b[0;32m     25\u001b[0m     \u001b[38;5;124mf\u001b[39m\u001b[38;5;124m\"\u001b[39m\u001b[38;5;124mGot \u001b[39m\u001b[38;5;132;01m{\u001b[39;00m\u001b[38;5;28mtype\u001b[39m(x)\u001b[38;5;132;01m}\u001b[39;00m\u001b[38;5;124m, but numpy array, torch tensor, or caffe2 blob name are expected.\u001b[39m\u001b[38;5;124m\"\u001b[39m\n\u001b[0;32m     26\u001b[0m )\n",
      "File \u001b[1;32mc:\\Users\\User\\anaconda3\\envs\\TensorFlow-GPU\\lib\\site-packages\\torch\\utils\\tensorboard\\_convert_np.py:32\u001b[0m, in \u001b[0;36m_prepare_pytorch\u001b[1;34m(x)\u001b[0m\n\u001b[0;32m     30\u001b[0m \u001b[38;5;28;01mif\u001b[39;00m x\u001b[38;5;241m.\u001b[39mdtype \u001b[38;5;241m==\u001b[39m torch\u001b[38;5;241m.\u001b[39mbfloat16:\n\u001b[0;32m     31\u001b[0m     x \u001b[38;5;241m=\u001b[39m x\u001b[38;5;241m.\u001b[39mto(torch\u001b[38;5;241m.\u001b[39mfloat16)\n\u001b[1;32m---> 32\u001b[0m x \u001b[38;5;241m=\u001b[39m \u001b[43mx\u001b[49m\u001b[38;5;241;43m.\u001b[39;49m\u001b[43mdetach\u001b[49m\u001b[43m(\u001b[49m\u001b[43m)\u001b[49m\u001b[38;5;241;43m.\u001b[39;49m\u001b[43mcpu\u001b[49m\u001b[43m(\u001b[49m\u001b[43m)\u001b[49m\u001b[38;5;241m.\u001b[39mnumpy()\n\u001b[0;32m     33\u001b[0m \u001b[38;5;28;01mreturn\u001b[39;00m x\n",
      "\u001b[1;31mKeyboardInterrupt\u001b[0m: "
     ]
    }
   ],
   "source": [
    "import os, datetime\n",
    "from tqdm import tqdm\n",
    "\n",
    "time = str(datetime.datetime.now()).replace(\":\", \" \")\n",
    "os.makedirs(f'Checkpoints/{time}')\n",
    "\n",
    "if loadModel:\n",
    "    model = loadCheckpoint(model, optimizer, 'transformer_checkpoint.pth')\n",
    "    \n",
    "exampleArticle = \"Ever noticed how plane seats appear to be getting smaller and smaller? With increasing numbers of people taking to the skies, some experts are questioning if having such packed out planes is putting passengers at risk. They say that the shrinking space on aeroplanes is not only uncomfortable - it's putting our health and safety in danger. More than squabbling over the arm rest, shrinking space on planes putting our health and safety in danger? This week, a U.S consumer advisory group set up by the Department of Transportation said at a public hearing that while the government is happy to set standards for animals flying on planes, it doesn't stipulate a minimum amount of space for humans. 'In a world where animals have more rights to space and food than humans,' said Charlie Leocha, consumer representative on the committee. 'It is time that the DOT and FAA take a stand for humane treatment of passengers.' But could crowding on planes lead to more serious issues than fighting for space in the overhead lockers, crashing elbows and seat back kicking? Tests conducted by the FAA use planes with a 31 inch pitch, a standard which on some airlines has decreased . Many economy seats on United Airlines have 30 inches of room, while some airlines offer as little as 28 inches . Cynthia Corbertt, a human factors researcher with the Federal Aviation Administration, that it conducts tests on how quickly passengers can leave a plane. But these tests are conducted using planes with 31 inches between each row of seats, a standard which on some airlines has decreased, reported the Detroit News. The distance between two seats from one point on a seat to the same point on the seat behind it is known as the pitch. While most airlines stick to a pitch of 31 inches or above, some fall below this. While United Airlines has 30 inches of space, Gulf Air economy seats have between 29 and 32 inches, Air Asia offers 29 inches and Spirit Airlines offers just 28 inches. British Airways has a seat pitch of 31 inches, while easyJet has 29 inches, Thomson's short haul seat pitch is 28 inches, and Virgin Atlantic's is 30-31.\"\n",
    "\n",
    "for epoch in range(numberEpochs):\n",
    "    \n",
    "    # Train the model\n",
    "    model.train()\n",
    "    \n",
    "    for batchIndex, batch in tqdm(enumerate(trainIterator), total=len(trainIterator), desc=f\"[Epoch {epoch} / {numberEpochs}]\"):\n",
    "        inputData = batch.src.to(device)\n",
    "        target = batch.trg.to(device)\n",
    "        \n",
    "        # Shift the target tensor by one time step\n",
    "        target_input = target[:-1, :]\n",
    "        \n",
    "        # forward prop\n",
    "        output = model(inputData, target_input)\n",
    "        \n",
    "        output = output.reshape(-1, output.shape[2])\n",
    "        target_output = target[1:, :].reshape(-1)\n",
    "        optimizer.zero_grad()\n",
    "        \n",
    "        loss = criterion(output, target_output)\n",
    "        loss.backward()\n",
    "        \n",
    "        torch.nn.utils.clip_grad_norm_(model.parameters(), max_norm=1)\n",
    "        \n",
    "        optimizer.step()\n",
    "        \n",
    "        writer.add_scalar(\"Training Loss\", loss, global_step=step)\n",
    "        step += 1\n",
    "        \n",
    "    # Save the model info\n",
    "    if saveModel:\n",
    "        checkpoint = {\n",
    "            \"stateDict\" : model.state_dict(),\n",
    "            \"optimizer\" : optimizer.state_dict()\n",
    "        }\n",
    "        \n",
    "        # save the checkpoint\n",
    "        saveCheckpoint(model, optimizer, f'Checkpoints/{time}/point{epoch}.pth')\n",
    "        \n",
    "    # Give the test output a show\n",
    "    model.eval()\n",
    "    testHighlights = getHighlights(exampleArticle, articles, highlights, model, device)\n",
    "    \n",
    "    print(f\"    Key Dot Points: \\n      {testHighlights}\")\n",
    "        "
   ]
  },
  {
   "cell_type": "markdown",
   "metadata": {},
   "source": [
    "# Evaluating the model"
   ]
  },
  {
   "cell_type": "code",
   "execution_count": null,
   "metadata": {},
   "outputs": [],
   "source": [
    "score = calculate_bleu(testData, model, articles, highlights, device)\n",
    "print(f\"The BLEU score is: {score}\")"
   ]
  }
 ],
 "metadata": {
  "kernelspec": {
   "display_name": "Python 3",
   "language": "python",
   "name": "python3"
  },
  "language_info": {
   "codemirror_mode": {
    "name": "ipython",
    "version": 3
   },
   "file_extension": ".py",
   "mimetype": "text/x-python",
   "name": "python",
   "nbconvert_exporter": "python",
   "pygments_lexer": "ipython3",
   "version": "3.10.13"
  }
 },
 "nbformat": 4,
 "nbformat_minor": 2
}
