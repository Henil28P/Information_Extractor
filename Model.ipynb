{
 "cells": [
  {
   "cell_type": "code",
   "execution_count": 1,
   "metadata": {},
   "outputs": [],
   "source": [
    "import info\n",
    "import Text_Preprocess\n",
    "import pandas as pd"
   ]
  },
  {
   "cell_type": "code",
   "execution_count": 3,
   "metadata": {},
   "outputs": [
    {
     "name": "stderr",
     "output_type": "stream",
     "text": []
    }
   ],
   "source": [
    "df = pd.read_csv('Datasets/cnn_dailymail/test.csv')\n",
    "text = Text_Preprocess.Process(df)\n",
    "df = text.getDF()"
   ]
  },
  {
   "cell_type": "code",
   "execution_count": 5,
   "metadata": {},
   "outputs": [
    {
     "data": {
      "text/html": [
       "<div>\n",
       "<style scoped>\n",
       "    .dataframe tbody tr th:only-of-type {\n",
       "        vertical-align: middle;\n",
       "    }\n",
       "\n",
       "    .dataframe tbody tr th {\n",
       "        vertical-align: top;\n",
       "    }\n",
       "\n",
       "    .dataframe thead th {\n",
       "        text-align: right;\n",
       "    }\n",
       "</style>\n",
       "<table border=\"1\" class=\"dataframe\">\n",
       "  <thead>\n",
       "    <tr style=\"text-align: right;\">\n",
       "      <th></th>\n",
       "      <th>id</th>\n",
       "      <th>article</th>\n",
       "      <th>highlights</th>\n",
       "      <th>article_vectors</th>\n",
       "      <th>highlights_vectors</th>\n",
       "    </tr>\n",
       "  </thead>\n",
       "  <tbody>\n",
       "    <tr>\n",
       "      <th>0</th>\n",
       "      <td>92c514c913c0bdfe25341af9fd72b29db544099b</td>\n",
       "      <td>ever noticed how plane seats appear to be gett...</td>\n",
       "      <td>experts question if packed out planes are putt...</td>\n",
       "      <td>[[1.8879, 0.8216193, 1.243006, -0.50688416, -1...</td>\n",
       "      <td>[[-1.9057308, 0.5270664, -0.6406959, -0.577891...</td>\n",
       "    </tr>\n",
       "    <tr>\n",
       "      <th>1</th>\n",
       "      <td>2003841c7dc0e7c5b1a248f9cd536d727f27a45a</td>\n",
       "      <td>a drunk teenage boy had to be rescued by secur...</td>\n",
       "      <td>drunk teenage boy climbed into lion enclosure ...</td>\n",
       "      <td>[[2.5803034, 0.078449346, -0.6584111, -1.30672...</td>\n",
       "      <td>[[1.9307729, -1.370311, -0.7965625, 0.31467035...</td>\n",
       "    </tr>\n",
       "    <tr>\n",
       "      <th>2</th>\n",
       "      <td>91b7d2311527f5c2b63a65ca98d21d9c92485149</td>\n",
       "      <td>dougie freedman is on the verge of agreeing a ...</td>\n",
       "      <td>nottingham forest are close to extending dougi...</td>\n",
       "      <td>[[0.006951001, 0.046679452, 0.2612481, 0.15486...</td>\n",
       "      <td>[[-0.856324, -0.7649316, 0.022903357, -0.17221...</td>\n",
       "    </tr>\n",
       "    <tr>\n",
       "      <th>3</th>\n",
       "      <td>caabf9cbdf96eb1410295a673e953d304391bfbb</td>\n",
       "      <td>liverpool target neto is also wanted by psg an...</td>\n",
       "      <td>fiorentina goalkeeper neto has been linked wit...</td>\n",
       "      <td>[[-0.0052432176, -1.42383, -0.57192296, -1.102...</td>\n",
       "      <td>[[-0.5689364, -0.58592635, 0.07463888, 0.17913...</td>\n",
       "    </tr>\n",
       "    <tr>\n",
       "      <th>4</th>\n",
       "      <td>3da746a7d9afcaa659088c8366ef6347fe6b53ea</td>\n",
       "      <td>bruce jenner will break his silence in a twoho...</td>\n",
       "      <td>tellall interview with the reality tv star 69 ...</td>\n",
       "      <td>[[1.701135, 0.29992205, -0.08260567, 1.0127225...</td>\n",
       "      <td>[[0.16315171, 0.13586028, 0.16334832, 0.119061...</td>\n",
       "    </tr>\n",
       "  </tbody>\n",
       "</table>\n",
       "</div>"
      ],
      "text/plain": [
       "                                         id  \\\n",
       "0  92c514c913c0bdfe25341af9fd72b29db544099b   \n",
       "1  2003841c7dc0e7c5b1a248f9cd536d727f27a45a   \n",
       "2  91b7d2311527f5c2b63a65ca98d21d9c92485149   \n",
       "3  caabf9cbdf96eb1410295a673e953d304391bfbb   \n",
       "4  3da746a7d9afcaa659088c8366ef6347fe6b53ea   \n",
       "\n",
       "                                             article  \\\n",
       "0  ever noticed how plane seats appear to be gett...   \n",
       "1  a drunk teenage boy had to be rescued by secur...   \n",
       "2  dougie freedman is on the verge of agreeing a ...   \n",
       "3  liverpool target neto is also wanted by psg an...   \n",
       "4  bruce jenner will break his silence in a twoho...   \n",
       "\n",
       "                                          highlights  \\\n",
       "0  experts question if packed out planes are putt...   \n",
       "1  drunk teenage boy climbed into lion enclosure ...   \n",
       "2  nottingham forest are close to extending dougi...   \n",
       "3  fiorentina goalkeeper neto has been linked wit...   \n",
       "4  tellall interview with the reality tv star 69 ...   \n",
       "\n",
       "                                     article_vectors  \\\n",
       "0  [[1.8879, 0.8216193, 1.243006, -0.50688416, -1...   \n",
       "1  [[2.5803034, 0.078449346, -0.6584111, -1.30672...   \n",
       "2  [[0.006951001, 0.046679452, 0.2612481, 0.15486...   \n",
       "3  [[-0.0052432176, -1.42383, -0.57192296, -1.102...   \n",
       "4  [[1.701135, 0.29992205, -0.08260567, 1.0127225...   \n",
       "\n",
       "                                  highlights_vectors  \n",
       "0  [[-1.9057308, 0.5270664, -0.6406959, -0.577891...  \n",
       "1  [[1.9307729, -1.370311, -0.7965625, 0.31467035...  \n",
       "2  [[-0.856324, -0.7649316, 0.022903357, -0.17221...  \n",
       "3  [[-0.5689364, -0.58592635, 0.07463888, 0.17913...  \n",
       "4  [[0.16315171, 0.13586028, 0.16334832, 0.119061...  "
      ]
     },
     "execution_count": 5,
     "metadata": {},
     "output_type": "execute_result"
    }
   ],
   "source": [
    "df.head()"
   ]
  },
  {
   "cell_type": "code",
   "execution_count": 6,
   "metadata": {},
   "outputs": [],
   "source": [
    "src_pad_idx = 0\n",
    "trg_pad_idx = 0\n",
    "src_vocab_size = text.getArticleVocabSize()\n",
    "trg_vocab_size = text.getHighlightsVocabSize()"
   ]
  },
  {
   "cell_type": "code",
   "execution_count": 7,
   "metadata": {},
   "outputs": [
    {
     "name": "stdout",
     "output_type": "stream",
     "text": [
      "Using cpu to process\n"
     ]
    },
    {
     "ename": "KeyboardInterrupt",
     "evalue": "",
     "output_type": "error",
     "traceback": [
      "\u001b[0;31m---------------------------------------------------------------------------\u001b[0m",
      "\u001b[0;31mKeyboardInterrupt\u001b[0m                         Traceback (most recent call last)",
      "Cell \u001b[0;32mIn[7], line 8\u001b[0m\n\u001b[1;32m      5\u001b[0m device \u001b[38;5;241m=\u001b[39m torch\u001b[38;5;241m.\u001b[39mdevice(\u001b[38;5;124m\"\u001b[39m\u001b[38;5;124mcuda\u001b[39m\u001b[38;5;124m\"\u001b[39m \u001b[38;5;28;01mif\u001b[39;00m torch\u001b[38;5;241m.\u001b[39mcuda\u001b[38;5;241m.\u001b[39mis_available() \u001b[38;5;28;01melse\u001b[39;00m \u001b[38;5;124m\"\u001b[39m\u001b[38;5;124mcpu\u001b[39m\u001b[38;5;124m\"\u001b[39m)\n\u001b[1;32m      6\u001b[0m \u001b[38;5;28mprint\u001b[39m(\u001b[38;5;124m\"\u001b[39m\u001b[38;5;124mUsing\u001b[39m\u001b[38;5;124m\"\u001b[39m, device, \u001b[38;5;124m\"\u001b[39m\u001b[38;5;124mto process\u001b[39m\u001b[38;5;124m\"\u001b[39m)\n\u001b[0;32m----> 8\u001b[0m x \u001b[38;5;241m=\u001b[39m torch\u001b[38;5;241m.\u001b[39mtensor(df[\u001b[38;5;124m'\u001b[39m\u001b[38;5;124marticle_vectors\u001b[39m\u001b[38;5;124m'\u001b[39m])\u001b[38;5;241m.\u001b[39mto(\n\u001b[1;32m      9\u001b[0m     device\n\u001b[1;32m     10\u001b[0m )\n\u001b[1;32m     11\u001b[0m trg \u001b[38;5;241m=\u001b[39m torch\u001b[38;5;241m.\u001b[39mtensor(df[\u001b[38;5;124m'\u001b[39m\u001b[38;5;124mhighlights_vectors\u001b[39m\u001b[38;5;124m'\u001b[39m])\u001b[38;5;241m.\u001b[39mto(device)\n\u001b[1;32m     13\u001b[0m model \u001b[38;5;241m=\u001b[39m Transformer(src_vocab_size, trg_vocab_size, src_pad_idx, trg_pad_idx, device\u001b[38;5;241m=\u001b[39mdevice, num_layers\u001b[38;5;241m=\u001b[39m\u001b[38;5;241m1\u001b[39m)\u001b[38;5;241m.\u001b[39mto(\n\u001b[1;32m     14\u001b[0m     device\n\u001b[1;32m     15\u001b[0m )\n",
      "File \u001b[0;32m~/anaconda3/lib/python3.11/site-packages/pandas/core/series.py:992\u001b[0m, in \u001b[0;36mSeries.__getitem__\u001b[0;34m(self, key)\u001b[0m\n\u001b[1;32m    987\u001b[0m \u001b[38;5;28;01mdef\u001b[39;00m \u001b[38;5;21m_slice\u001b[39m(\u001b[38;5;28mself\u001b[39m, slobj: \u001b[38;5;28mslice\u001b[39m \u001b[38;5;241m|\u001b[39m np\u001b[38;5;241m.\u001b[39mndarray, axis: Axis \u001b[38;5;241m=\u001b[39m \u001b[38;5;241m0\u001b[39m) \u001b[38;5;241m-\u001b[39m\u001b[38;5;241m>\u001b[39m Series:\n\u001b[1;32m    988\u001b[0m     \u001b[38;5;66;03m# axis kwarg is retained for compat with NDFrame method\u001b[39;00m\n\u001b[1;32m    989\u001b[0m     \u001b[38;5;66;03m#  _slice is *always* positional\u001b[39;00m\n\u001b[1;32m    990\u001b[0m     \u001b[38;5;28;01mreturn\u001b[39;00m \u001b[38;5;28mself\u001b[39m\u001b[38;5;241m.\u001b[39m_get_values(slobj)\n\u001b[0;32m--> 992\u001b[0m \u001b[38;5;28;01mdef\u001b[39;00m \u001b[38;5;21m__getitem__\u001b[39m(\u001b[38;5;28mself\u001b[39m, key):\n\u001b[1;32m    993\u001b[0m     check_dict_or_set_indexers(key)\n\u001b[1;32m    994\u001b[0m     key \u001b[38;5;241m=\u001b[39m com\u001b[38;5;241m.\u001b[39mapply_if_callable(key, \u001b[38;5;28mself\u001b[39m)\n",
      "\u001b[0;31mKeyboardInterrupt\u001b[0m: "
     ]
    }
   ],
   "source": [
    "from Transformer import Transformer\n",
    "import torch\n",
    "\n",
    "# Check to see if can use GPU\n",
    "device = torch.device(\"cuda\" if torch.cuda.is_available() else \"cpu\")\n",
    "print(\"Using\", device, \"to process\")\n",
    "\n",
    "x = torch.tensor(df['article_vectors']).to(\n",
    "    device\n",
    ")\n",
    "trg = torch.tensor(df['highlights_vectors']).to(device)\n",
    "\n",
    "model = Transformer(src_vocab_size, trg_vocab_size, src_pad_idx, trg_pad_idx, device=device, num_layers=1).to(\n",
    "    device\n",
    ")\n",
    "out = model(x, trg[:, :-1])\n",
    "print(out)"
   ]
  },
  {
   "cell_type": "code",
   "execution_count": 8,
   "metadata": {},
   "outputs": [
    {
     "ename": "NameError",
     "evalue": "name 'out' is not defined",
     "output_type": "error",
     "traceback": [
      "\u001b[0;31m---------------------------------------------------------------------------\u001b[0m",
      "\u001b[0;31mNameError\u001b[0m                                 Traceback (most recent call last)",
      "Cell \u001b[0;32mIn[8], line 2\u001b[0m\n\u001b[1;32m      1\u001b[0m \u001b[38;5;66;03m# Get the most similar word vectors to the output vectors\u001b[39;00m\n\u001b[0;32m----> 2\u001b[0m most_similar_words \u001b[38;5;241m=\u001b[39m text\u001b[38;5;241m.\u001b[39mmodelWord2Vec\u001b[38;5;241m.\u001b[39mwv\u001b[38;5;241m.\u001b[39mmost_similar(positive\u001b[38;5;241m=\u001b[39m[out[\u001b[38;5;241m0\u001b[39m]\u001b[38;5;241m.\u001b[39mdetach()\u001b[38;5;241m.\u001b[39mnumpy()], topn\u001b[38;5;241m=\u001b[39m\u001b[38;5;241m1\u001b[39m)\n\u001b[1;32m      4\u001b[0m \u001b[38;5;66;03m# Extract the word from the most similar word vector\u001b[39;00m\n\u001b[1;32m      5\u001b[0m most_similar_word \u001b[38;5;241m=\u001b[39m most_similar_words[\u001b[38;5;241m0\u001b[39m][\u001b[38;5;241m0\u001b[39m]\n",
      "\u001b[0;31mNameError\u001b[0m: name 'out' is not defined"
     ]
    }
   ],
   "source": [
    "# Get the most similar word vectors to the output vectors\n",
    "most_similar_words = text.modelWord2Vec.wv.most_similar(positive=[out[0].detach().numpy()], topn=1)\n",
    "\n",
    "# Extract the word from the most similar word vector\n",
    "most_similar_word = most_similar_words[0][0]"
   ]
  }
 ],
 "metadata": {
  "kernelspec": {
   "display_name": "TensorFlow-GPU",
   "language": "python",
   "name": "python3"
  },
  "language_info": {
   "codemirror_mode": {
    "name": "ipython",
    "version": 3
   },
   "file_extension": ".py",
   "mimetype": "text/x-python",
   "name": "python",
   "nbconvert_exporter": "python",
   "pygments_lexer": "ipython3",
   "version": "3.11.5"
  }
 },
 "nbformat": 4,
 "nbformat_minor": 2
}
